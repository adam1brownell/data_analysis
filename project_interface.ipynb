{
 "cells": [
  {
   "cell_type": "markdown",
   "metadata": {
    "collapsed": true
   },
   "source": [
    "# Interfacing with project data\n",
    "We've written wrapper functions so that you don't need to do any complex file I/O with the project datasets. (Though if you're interested you're more than welcome to do so). The loading functions for the three datasets are provided below.\n",
    "\n",
    "For each of these functions, you'll supply the path to where you've downloaded the datasets and the subject ID as well as any optional arguments specific to the project.\n",
    "\n",
    "For the fMRI dataset, the function will get the data and the labels (and chunks). \n",
    "\n",
    "For the EEG datasets, the functions will return 3 variables: the data, the labels (and chunks), and the channel names. "
   ]
  },
  {
   "cell_type": "markdown",
   "metadata": {},
   "source": [
    "## fMRI Dataset\n",
    "\n",
    "These data were first published in Haxby 2001 (Science). For those of you using this function, you will need to add an additional module called \"nibabel\" in order to load the data. \n",
    "\n",
    "http://www.pymvpa.org/datadb/haxby2001.html"
   ]
  },
  {
   "cell_type": "code",
   "execution_count": 1,
   "metadata": {},
   "outputs": [],
   "source": [
    "# data.pymvpa.org/datasets/haxby2001\n",
    "def load_haxby_data(datapath, sub, mask=None):\n",
    "    # input arguments:\n",
    "    # datapath (string): path to the root directory\n",
    "    # sub (string): subject ID (e.g. subj1, subj2, etc)\n",
    "    # output:\n",
    "    # maskeddata (numpy array): samples x voxels data matrix\n",
    "    # fmrilabel (pandas dataframe): length samples\n",
    "    import nibabel as nib\n",
    "    import pandas as pd\n",
    "    import numpy as np\n",
    "\n",
    "    fmriobj = nib.load(os.path.join(datapath, sub, 'train.nii.gz'))\n",
    "    fmridata, fmriheader = fmriobj.get_data(), fmriobj.header\n",
    "    fmridata = np.rollaxis(fmridata, -1)\n",
    "    # shift last axis to the first\n",
    "    fmrilabel = pd.read_table(os.path.join(datapath, sub, 'labels.txt'), delim_whitespace=True)\n",
    "    if mask is not None:\n",
    "        maskobj = nib.load(os.path.join(datapath, sub, mask + '.nii.gz'))\n",
    "        maskdata, maskheader = maskobj.get_data(), maskobj.header\n",
    "        maskeddata = fmridata[:, maskdata > 0]  # timepoints axis 0, voxels axis 1\n",
    "        # need to figure out how to mask features back to original geometry\n",
    "        print maskeddata.shape\n",
    "    else:\n",
    "        maskeddata = fmridata\n",
    "\n",
    "    return maskeddata, fmrilabel[fmrilabel.chunks != 11]  # not loading the testing run that we've set aside"
   ]
  },
  {
   "cell_type": "markdown",
   "metadata": {},
   "source": [
    "## task EEG Dataset\n",
    "The task EEG dataset is taken from a Kaggle competition (https://www.kaggle.com/c/grasp-and-lift-eeg-detection). There are a number of different labels in the \"eegevents\" output (e.g. grasping vs lifting, left vs right, etc)."
   ]
  },
  {
   "cell_type": "code",
   "execution_count": 2,
   "metadata": {},
   "outputs": [],
   "source": [
    "def load_task_eeg_series(datapath, sub, series):\n",
    "    # input arguments:\n",
    "    # datapath (string): path to the root directory\n",
    "    # sub (string): subject ID (e.g. subj1, subj2, etc)\n",
    "    # series (int): series name (e.g. 1, 2, etc). \n",
    "    # This will load in all of the specified data and chunk them by series\n",
    "    \n",
    "    # output:\n",
    "    # eegdata (numpy array): samples x channels data matrix\n",
    "    # eegevents (pandas dataframe): labels\n",
    "    # channel_names (list): names of the channels\n",
    "    import os\n",
    "    import pandas as pd\n",
    "    eegdata = pd.read_csv(os.path.join(datapath, sub + '_series' + str(series) + '_data.csv'))\n",
    "    eegevents = pd.read_csv(os.path.join(datapath, sub + '_series' + str(series) + '_events.csv'))\n",
    "    return eegdata.iloc[:].as_matrix(), eegevents, eegdata.keys()\n",
    "\n",
    "\n",
    "def load_task_eeg_data(datapath, sub):\n",
    "    # call this one in your code\n",
    "    # input arguments:\n",
    "    # datapath (string): path to the root directory\n",
    "    # sub (string): subject ID (e.g. subj1, subj2, etc)\n",
    "    # series (list): series number (e.g. [1,2,3] etc). \n",
    "    # This will load in all of the specified data and chunk them by series\n",
    "    \n",
    "    # output:\n",
    "    # eegdata (numpy array): samples x channels data matrix\n",
    "    # eegevents (pandas dataframe): labels\n",
    "    # channel_names (list): names of the channels\n",
    "    import pandas as pd\n",
    "    import numpy as np\n",
    "    eegdata = []\n",
    "    eegevents = []\n",
    "    for s in range(1, 9):\n",
    "        ed, ee, ek = load_task_eeg_series(datapath, sub, s)\n",
    "        ee['chunks'] = pd.Series(s * np.ones(ee.shape[0]))\n",
    "        eegdata.append(ed)\n",
    "        eegevents.append(ee)\n",
    "    eegkeys = ek    \n",
    "    return np.vstack(eegdata), pd.concat(eegevents), eegkeys"
   ]
  },
  {
   "cell_type": "markdown",
   "metadata": {},
   "source": [
    "## clinical EEG Dataset\n",
    "\n",
    "The clinical EEG dataset is taken from https://physionet.org/pn6/chbmit/, with references in the link.\n",
    "\n",
    "The dataset was originally 24-48 hour continuous monitoring of patients with intractable seizures. We've clipped out seizure events, as well as the time periods 10 min before and after each event. Each seizure event (before, during and after) is denoted by a chunk."
   ]
  },
  {
   "cell_type": "code",
   "execution_count": 3,
   "metadata": {},
   "outputs": [],
   "source": [
    "def load_clinical_eeg_data(datapath, sub):\n",
    "    # input arguments:\n",
    "    # datapath (string): path to the root directory\n",
    "    # sub (string): subject ID (e.g. chb01, chb02, etc)\n",
    "    \n",
    "    # output:\n",
    "    # eegdata (numpy array): samples x channels data matrix\n",
    "    # eegevents (pandas dataframe): labels and chunks\n",
    "    # channel_names (list): names of the channels\n",
    "    import pandas as pd\n",
    "    alldata = pd.read_csv(os.path.join(datapath, 'train', sub + '.csv'))\n",
    "    alldata.rename(columns={'Unnamed: 0': 'Index'})\n",
    "    eegevents = alldata[['labels', 'chunks']]\n",
    "    alldata.drop(['Unnamed: 0', 'labels', 'chunks'], axis=1, inplace=True)\n",
    "    names = alldata.keys()\n",
    "    return alldata.iloc[:].as_matrix(), eegevents, names"
   ]
  },
  {
   "cell_type": "code",
   "execution_count": null,
   "metadata": {},
   "outputs": [],
   "source": [
    ""
   ]
  }
 ],
 "metadata": {
  "kernelspec": {
   "display_name": "Python 2",
   "language": "python",
   "name": "python2"
  },
  "language_info": {
   "codemirror_mode": {
    "name": "ipython",
    "version": 2.0
   },
   "file_extension": ".py",
   "mimetype": "text/x-python",
   "name": "python",
   "nbconvert_exporter": "python",
   "pygments_lexer": "ipython2",
   "version": "2.7.6"
  }
 },
 "nbformat": 4,
 "nbformat_minor": 0
}