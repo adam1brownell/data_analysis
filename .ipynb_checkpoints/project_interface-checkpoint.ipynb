{
 "cells": [
  {
   "cell_type": "markdown",
   "metadata": {
    "collapsed": true
   },
   "source": [
    "# Interfacing with project data\n",
    "We've written wrapper functions so that you don't need to do any complex file I/O with the project datasets. (Though if you're interested you're more than welcome to do so). The loading functions for the three datasets are provided below.\n",
    "\n",
    "For each of these functions, you'll supply the path to where you've downloaded the datasets and the subject ID as well as any optional arguments specific to the project.\n",
    "\n",
    "For the fMRI dataset, the function will get the data and the labels (and chunks). \n",
    "\n",
    "For the EEG datasets, the functions will return 3 variables: the data, the labels (and chunks), and the channel names. "
   ]
  },
  {
   "cell_type": "markdown",
   "metadata": {},
   "source": [
    "## clinical EEG Dataset\n",
    "\n",
    "The clinical EEG dataset is taken from https://physionet.org/pn6/chbmit/, with references in the link.\n",
    "\n",
    "The dataset was originally 24-48 hour continuous monitoring of patients with intractable seizures. We've clipped out seizure events, as well as the time periods 10 min before and after each event. Each seizure event (before, during and after) is denoted by a chunk."
   ]
  },
  {
   "cell_type": "code",
   "execution_count": 6,
   "metadata": {
    "collapsed": true
   },
   "outputs": [],
   "source": [
    "%matplotlib inline\n",
    "import numpy as np\n",
    "import matplotlib.pyplot as plt\n",
    "import sklearn\n",
    "import os"
   ]
  },
  {
   "cell_type": "code",
   "execution_count": 7,
   "metadata": {
    "collapsed": true
   },
   "outputs": [],
   "source": [
    "def load_clinical_eeg_data(datapath, sub):\n",
    "    # input arguments:\n",
    "    # datapath (string): path to the root directory\n",
    "    # sub (string): subject ID (e.g. chb01, chb02, etc)\n",
    "    \n",
    "    # output:\n",
    "    # eegdata (numpy array): samples x channels data matrix\n",
    "    # eegevents (pandas dataframe): labels and chunks\n",
    "    # channel_names (list): names of the channels\n",
    "    import pandas as pd\n",
    "    alldata = pd.read_csv(os.path.join(datapath, 'train', sub + '.csv'))\n",
    "    alldata.rename(columns={'Unnamed: 0': 'Index'})\n",
    "    eegevents = alldata[['labels', 'chunks']]\n",
    "    alldata.drop(['Unnamed: 0', 'labels', 'chunks'], axis=1, inplace=True)\n",
    "    names = alldata.keys()\n",
    "    return alldata.iloc[:].as_matrix(), eegevents, names"
   ]
  },
  {
   "cell_type": "code",
   "execution_count": 10,
   "metadata": {
    "collapsed": false
   },
   "outputs": [
    {
     "name": "stdout",
     "output_type": "stream",
     "text": [
      "(462848, 23)\n",
      "(462848, 23)\n"
     ]
    }
   ],
   "source": [
    "matrix, eegchunks, chan_name = load_clinical_eeg_data('', 'chb01')\n",
    "\n",
    "\n",
    "from sklearn.decomposition import PCA\n",
    "\n",
    "pca = PCA()\n",
    "print matrix.shape\n",
    "matrix = pca.fit_transform(matrix)\n",
    "print matrix.shape"
   ]
  },
  {
   "cell_type": "code",
   "execution_count": null,
   "metadata": {
    "collapsed": true
   },
   "outputs": [],
   "source": []
  }
 ],
 "metadata": {
  "anaconda-cloud": {},
  "kernelspec": {
   "display_name": "Python [default]",
   "language": "python",
   "name": "python2"
  },
  "language_info": {
   "codemirror_mode": {
    "name": "ipython",
    "version": 2
   },
   "file_extension": ".py",
   "mimetype": "text/x-python",
   "name": "python",
   "nbconvert_exporter": "python",
   "pygments_lexer": "ipython2",
   "version": "2.7.12"
  }
 },
 "nbformat": 4,
 "nbformat_minor": 0
}
